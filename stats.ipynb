{
 "cells": [
  {
   "cell_type": "markdown",
   "metadata": {},
   "source": [
    "# Data Exploration\n",
    "\n",
    "Let’s explore the data to find relationships between the features. I’ll start by looking at the relationship between the distance and time taken to deliver the food:"
   ]
  },
  {
   "cell_type": "code",
   "execution_count": null,
   "metadata": {},
   "outputs": [],
   "source": [
    "! pip install tensorflow\n",
    "! pip install tensorflow-io\n",
    "! pip install kafka-python\n",
    "! pip install numpy\n",
    "! pip install plotly\n",
    "! pip install pandas\n",
    "! pip install numpy\n",
    "! pip install scikit-learn"
   ]
  },
  {
   "cell_type": "code",
   "execution_count": null,
   "metadata": {},
   "outputs": [],
   "source": [
    "from keras.models import Sequential\n",
    "from keras.layers import LSTM, Dense\n",
    "import plotly.express as px\n",
    "import numpy as np\n",
    "import pandas as pd\n",
    "import tensorflow as tf\n",
    "import tensorflow_io as tfio\n",
    "\n",
    "data = pd.read_csv(\"deliverytime.txt\")\n",
    "display(data.head())\n",
    "\n",
    "data.info()"
   ]
  },
  {
   "cell_type": "code",
   "execution_count": null,
   "metadata": {},
   "outputs": [],
   "source": [
    "# Set the earth's radius (in kilometers)\n",
    "R = 6371\n",
    "\n",
    "# Convert degrees to radians\n",
    "def deg_to_rad(degrees):\n",
    "    return degrees * (np.pi/180)\n",
    "\n",
    "# Function to calculate the distance between two points using the haversine formula\n",
    "def distcalculate(lat1, lon1, lat2, lon2):\n",
    "    d_lat = deg_to_rad(lat2-lat1)\n",
    "    d_lon = deg_to_rad(lon2-lon1)\n",
    "    a = np.sin(d_lat/2)**2 + np.cos(deg_to_rad(lat1)) * np.cos(deg_to_rad(lat2)) * np.sin(d_lon/2)**2\n",
    "    c = 2 * np.arctan2(np.sqrt(a), np.sqrt(1-a))\n",
    "    return R * c\n",
    "  \n",
    "# Calculate the distance between each pair of points\n",
    "data['distance'] = np.nan\n",
    "\n",
    "for i in range(len(data)):\n",
    "    data.loc[i, 'distance'] = distcalculate(data.loc[i, 'Restaurant_latitude'], \n",
    "                                        data.loc[i, 'Restaurant_longitude'], \n",
    "                                        data.loc[i, 'Delivery_location_latitude'], \n",
    "                                        data.loc[i, 'Delivery_location_longitude'])"
   ]
  },
  {
   "cell_type": "code",
   "execution_count": null,
   "metadata": {},
   "outputs": [],
   "source": [
    "display(data.head())"
   ]
  },
  {
   "cell_type": "markdown",
   "metadata": {},
   "source": [
    "We have now calculated the distance between the restaurant and the delivery location. We have also added a new feature in the dataset as distance. Let’s look at the dataset again:"
   ]
  },
  {
   "cell_type": "code",
   "execution_count": null,
   "metadata": {},
   "outputs": [],
   "source": [
    "figure = px.scatter(data_frame = data, \n",
    "                    x=\"distance\",\n",
    "                    y=\"Time_taken(min)\", \n",
    "                    size=\"Time_taken(min)\", \n",
    "                    trendline=\"ols\", \n",
    "                    title = \"Relationship Between Distance and Time Taken\")\n",
    "figure.show()"
   ]
  },
  {
   "cell_type": "markdown",
   "metadata": {},
   "source": [
    "There is a consistent relationship between the time taken and the distance travelled to deliver the food. It means that most delivery partners deliver food within 25-30 minutes, regardless of distance.\n",
    "\n",
    "Now let’s have a look at the relationship between the time taken to deliver the food and the age of the delivery partner:"
   ]
  },
  {
   "cell_type": "code",
   "execution_count": null,
   "metadata": {},
   "outputs": [],
   "source": [
    "figure = px.scatter(data_frame = data, \n",
    "                    x=\"Delivery_person_Age\",\n",
    "                    y=\"Time_taken(min)\", \n",
    "                    size=\"Time_taken(min)\", \n",
    "                    color = \"distance\",\n",
    "                    trendline=\"ols\", \n",
    "                    title = \"Relationship Between Time Taken and Age\")\n",
    "figure.show()"
   ]
  },
  {
   "cell_type": "markdown",
   "metadata": {},
   "source": [
    "There is a linear relationship between the time taken to deliver the food and the age of the delivery partner. It means young delivery partners take less time to deliver the food compared to the elder partners.\n",
    "\n",
    "Now let’s have a look at the relationship between the time taken to deliver the food and the ratings of the delivery partner:"
   ]
  },
  {
   "cell_type": "markdown",
   "metadata": {},
   "source": [
    "figure = px.scatter(data_frame = data, \n",
    "                    x=\"Delivery_person_Ratings\",\n",
    "                    y=\"Time_taken(min)\", \n",
    "                    size=\"Time_taken(min)\", \n",
    "                    color = \"distance\",\n",
    "                    trendline=\"ols\", \n",
    "                    title = \"Relationship Between Time Taken and Ratings\")\n",
    "figure.show()"
   ]
  },
  {
   "cell_type": "markdown",
   "metadata": {},
   "source": [
    "There is an inverse linear relationship between the time taken to deliver the food and the ratings of the delivery partner. It means delivery partners with higher ratings take less time to deliver the food compared to partners with low ratings.\n",
    "\n",
    "\n",
    "Now let’s have a look if the type of food ordered by the customer and the type of vehicle used by the delivery partner affects the delivery time or not:"
   ]
  },
  {
   "cell_type": "code",
   "execution_count": null,
   "metadata": {},
   "outputs": [],
   "source": [
    "fig = px.box(data, \n",
    "             x=\"Type_of_vehicle\",\n",
    "             y=\"Time_taken(min)\", \n",
    "             color=\"Type_of_order\")\n",
    "fig.show()"
   ]
  },
  {
   "cell_type": "markdown",
   "metadata": {},
   "source": [
    "So there is not much difference between the time taken by delivery partners depending on the vehicle they are driving and the type of food they are delivering.\n",
    "\n",
    "So the features that contribute most to the food delivery time based on our analysis are:\n",
    "\n",
    "- age of the delivery partner\n",
    "- ratings of the delivery partner\n",
    "- distance between the restaurant and the delivery location"
   ]
  }
 ],
 "metadata": {
  "language_info": {
   "name": "python"
  }
 },
 "nbformat": 4,
 "nbformat_minor": 2
}
