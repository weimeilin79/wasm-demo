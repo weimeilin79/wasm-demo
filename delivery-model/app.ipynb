{
 "cells": [
  {
   "cell_type": "code",
   "execution_count": null,
   "metadata": {},
   "outputs": [],
   "source": [
    "import tensorflow as tf\n",
    "import ipywidgets as widgets\n",
    "from IPython.display import display\n",
    "import numpy as np\n",
    "\n",
    "# Load your trained model (replace with your model loading code)\n",
    "model = tf.keras.models.load_model('./time_prediction_model')\n",
    "\n",
    "# Define input widgets\n",
    "input_widget1 = widgets.FloatText(value=0.0, description='Driver Age:')\n",
    "input_widget2 = widgets.FloatText(value=0.0, description='Rating:')\n",
    "input_widget3 = widgets.FloatText(value=0.0, description='Distance:')\n",
    "\n",
    "# Create a button to trigger the prediction\n",
    "predict_button = widgets.Button(description='Predict')\n",
    "\n",
    "# Output widget to display the prediction result\n",
    "output_widget = widgets.Output()\n",
    "\n",
    "# Function to make a prediction\n",
    "def make_prediction(b):\n",
    "    inputs = np.array([\n",
    "        input_widget1.value,\n",
    "        input_widget2.value,\n",
    "        input_widget3.value\n",
    "    ]).reshape(1, -1)\n",
    "    \n",
    "    with output_widget:\n",
    "        output_widget.clear_output()\n",
    "        prediction = model.predict(inputs)\n",
    "        print(f'Prediction: {prediction[0][0]}')\n",
    "\n",
    "# Assign the prediction function to the button click event\n",
    "predict_button.on_click(make_prediction)\n",
    "\n",
    "# Create the user interface layout\n",
    "input_widgets = widgets.VBox([input_widget1, input_widget2, input_widget3])\n",
    "user_interface = widgets.VBox([input_widgets, predict_button, output_widget])\n",
    "\n",
    "# Display the user interface\n",
    "display(user_interface)\n"
   ]
  }
 ],
 "metadata": {
  "language_info": {
   "name": "python"
  }
 },
 "nbformat": 4,
 "nbformat_minor": 2
}
