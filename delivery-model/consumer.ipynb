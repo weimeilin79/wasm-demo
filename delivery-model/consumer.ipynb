{
 "cells": [
  {
   "cell_type": "code",
   "execution_count": null,
   "id": "ed9f5e86-a46c-44e8-8086-bd73a542a139",
   "metadata": {},
   "outputs": [],
   "source": [
    "\n",
    "! pip install tensorflow\n",
    "! pip install tensorflow-io\n",
    "! pip install kafka-python\n",
    "! pip install numpy\n",
    "! pip install plotly\n",
    "! pip install pandas\n",
    "! pip install numpy\n",
    "! pip install scikit-learn\n"
   ]
  },
  {
   "cell_type": "code",
   "execution_count": null,
   "id": "047285a8-daa7-41e6-8a76-9daaaa1874da",
   "metadata": {},
   "outputs": [],
   "source": [
    "from keras.models import Sequential\n",
    "from keras.layers import LSTM, Dense\n",
    "from kafka import KafkaConsumer\n",
    "import plotly.express as px\n",
    "import numpy as np\n",
    "import pandas as pd\n",
    "import tensorflow as tf\n",
    "import tensorflow_io as tfio\n"
   ]
  },
  {
   "cell_type": "markdown",
   "id": "5cec221a",
   "metadata": {},
   "source": [
    "## Food Delivery Time Prediction Model\n",
    "\n",
    "Now let’s train a Machine Learning model using an LSTM neural network model for the task of food delivery time prediction:"
   ]
  },
  {
   "cell_type": "code",
   "execution_count": null,
   "id": "43f9ddaf",
   "metadata": {},
   "outputs": [],
   "source": [
    "model = Sequential()\n",
    "model.add(LSTM(128, return_sequences=True, input_shape= (3, 1)))\n",
    "model.add(LSTM(64, return_sequences=False))\n",
    "model.add(Dense(25))\n",
    "model.add(Dense(1))\n",
    "model.compile(optimizer='adam', loss='mean_squared_error', run_eagerly=True)\n",
    "model.summary()"
   ]
  },
  {
   "cell_type": "code",
   "execution_count": 77,
   "id": "89ba98a4",
   "metadata": {},
   "outputs": [
    {
     "name": "stderr",
     "output_type": "stream",
     "text": [
      "2024-01-05 21:46:54.214677: I tensorflow_io/core/kernels/kafka_kernels.cc:879] Kafka configuration: session.timeout.ms=7000\n",
      "2024-01-05 21:46:54.214694: I tensorflow_io/core/kernels/kafka_kernels.cc:879] Kafka configuration: max.poll.interval.ms=8000\n",
      "2024-01-05 21:46:54.214702: I tensorflow_io/core/kernels/kafka_kernels.cc:879] Kafka configuration: auto.offset.reset=earliest\n",
      "2024-01-05 21:46:54.214708: I tensorflow_io/core/kernels/kafka_kernels.cc:879] Kafka configuration: group.id=testzo\n",
      "2024-01-05 21:46:54.214713: I tensorflow_io/core/kernels/kafka_kernels.cc:879] Kafka configuration: bootstrap.servers=localhost:19092,localhost:29092,localhost:39092\n",
      "2024-01-05 21:46:54.214727: I tensorflow_io/core/kernels/kafka_kernels.cc:919] max num of messages per batch: 10000\n",
      "2024-01-05 21:46:54.214733: I tensorflow_io/core/kernels/kafka_kernels.cc:938] Creating the kafka consumer\n",
      "2024-01-05 21:46:54.214950: I tensorflow_io/core/kernels/kafka_kernels.cc:945] Subscribing to the kafka topic: result-data\n",
      "2024-01-05 21:46:54.285000: E tensorflow_io/core/kernels/kafka_kernels.cc:774] REBALANCE: Local: Assign partitions\n",
      "2024-01-05 21:46:54.285780: E tensorflow_io/core/kernels/kafka_kernels.cc:776] Retrieved committed offsets with status code: 0\n",
      "2024-01-05 21:46:54.285794: I tensorflow_io/core/kernels/kafka_kernels.cc:787] REBALANCE: result-data[0], OFFSET: -1001 ERROR_CODE: 0\n",
      "2024-01-05 21:46:54.285807: I tensorflow_io/core/kernels/kafka_kernels.cc:802] REBALANCE: Assigning partitions\n"
     ]
    },
    {
     "name": "stdout",
     "output_type": "stream",
     "text": [
      "message>  [<tf.Tensor 'DecodeCSV:0' shape=() dtype=float32>, <tf.Tensor 'DecodeCSV:1' shape=() dtype=float32>, <tf.Tensor 'DecodeCSV:2' shape=() dtype=float32>]\n",
      "key>  Tensor(\"StringToNumber:0\", shape=(), dtype=float32)\n",
      "Epoch 1/2\n",
      "500/500 [==============================] - 63s 127ms/step - loss: 57.5211\n",
      "Epoch 2/2\n",
      "500/500 [==============================] - 61s 121ms/step - loss: 57.4781\n",
      "INFO:tensorflow:Assets written to: ./time_prediction_model/assets\n"
     ]
    },
    {
     "name": "stderr",
     "output_type": "stream",
     "text": [
      "INFO:tensorflow:Assets written to: ./time_prediction_model/assets\n"
     ]
    },
    {
     "name": "stdout",
     "output_type": "stream",
     "text": [
      "message>  [<tf.Tensor 'DecodeCSV:0' shape=() dtype=float32>, <tf.Tensor 'DecodeCSV:1' shape=() dtype=float32>, <tf.Tensor 'DecodeCSV:2' shape=() dtype=float32>]\n",
      "key>  Tensor(\"StringToNumber:0\", shape=(), dtype=float32)\n"
     ]
    },
    {
     "name": "stderr",
     "output_type": "stream",
     "text": [
      "2024-01-05 21:49:08.426034: E tensorflow_io/core/kernels/kafka_kernels.cc:774] REBALANCE: Local: Revoke partitions\n",
      "2024-01-05 21:49:08.426878: E tensorflow_io/core/kernels/kafka_kernels.cc:776] Retrieved committed offsets with status code: 0\n",
      "2024-01-05 21:49:08.426894: I tensorflow_io/core/kernels/kafka_kernels.cc:787] REBALANCE: result-data[0], OFFSET: 20000 ERROR_CODE: 0\n",
      "2024-01-05 21:49:08.426899: I tensorflow_io/core/kernels/kafka_kernels.cc:806] REBALANCE: Unassigning partitions\n",
      "2024-01-05 21:49:08.429587: E tensorflow_io/core/kernels/kafka_kernels.cc:774] REBALANCE: Local: Assign partitions\n",
      "2024-01-05 21:49:08.429996: E tensorflow_io/core/kernels/kafka_kernels.cc:776] Retrieved committed offsets with status code: 0\n",
      "2024-01-05 21:49:08.430006: I tensorflow_io/core/kernels/kafka_kernels.cc:787] REBALANCE: result-data[0], OFFSET: 20000 ERROR_CODE: 0\n",
      "2024-01-05 21:49:08.430011: I tensorflow_io/core/kernels/kafka_kernels.cc:802] REBALANCE: Assigning partitions\n"
     ]
    },
    {
     "name": "stdout",
     "output_type": "stream",
     "text": [
      "Epoch 1/2\n",
      "500/500 [==============================] - 62s 123ms/step - loss: 57.7314\n",
      "Epoch 2/2\n",
      "500/500 [==============================] - 63s 127ms/step - loss: 57.7301\n",
      "INFO:tensorflow:Assets written to: ./time_prediction_model/assets\n"
     ]
    },
    {
     "name": "stderr",
     "output_type": "stream",
     "text": [
      "INFO:tensorflow:Assets written to: ./time_prediction_model/assets\n"
     ]
    },
    {
     "name": "stdout",
     "output_type": "stream",
     "text": [
      "message>  [<tf.Tensor 'DecodeCSV:0' shape=() dtype=float32>, <tf.Tensor 'DecodeCSV:1' shape=() dtype=float32>, <tf.Tensor 'DecodeCSV:2' shape=() dtype=float32>]\n",
      "key>  Tensor(\"StringToNumber:0\", shape=(), dtype=float32)\n"
     ]
    },
    {
     "name": "stderr",
     "output_type": "stream",
     "text": [
      "2024-01-05 21:51:25.288481: E tensorflow_io/core/kernels/kafka_kernels.cc:774] REBALANCE: Local: Revoke partitions\n",
      "2024-01-05 21:51:25.289301: E tensorflow_io/core/kernels/kafka_kernels.cc:776] Retrieved committed offsets with status code: 0\n",
      "2024-01-05 21:51:25.289318: I tensorflow_io/core/kernels/kafka_kernels.cc:787] REBALANCE: result-data[0], OFFSET: 30000 ERROR_CODE: 0\n",
      "2024-01-05 21:51:25.289323: I tensorflow_io/core/kernels/kafka_kernels.cc:806] REBALANCE: Unassigning partitions\n",
      "2024-01-05 21:51:25.292003: E tensorflow_io/core/kernels/kafka_kernels.cc:774] REBALANCE: Local: Assign partitions\n",
      "2024-01-05 21:51:25.292434: E tensorflow_io/core/kernels/kafka_kernels.cc:776] Retrieved committed offsets with status code: 0\n",
      "2024-01-05 21:51:25.292449: I tensorflow_io/core/kernels/kafka_kernels.cc:787] REBALANCE: result-data[0], OFFSET: 30000 ERROR_CODE: 0\n",
      "2024-01-05 21:51:25.292456: I tensorflow_io/core/kernels/kafka_kernels.cc:802] REBALANCE: Assigning partitions\n"
     ]
    },
    {
     "name": "stdout",
     "output_type": "stream",
     "text": [
      "Epoch 1/2\n",
      "500/500 [==============================] - 60s 120ms/step - loss: 57.5566\n",
      "Epoch 2/2\n",
      "500/500 [==============================] - 59s 119ms/step - loss: 57.3772\n",
      "INFO:tensorflow:Assets written to: ./time_prediction_model/assets\n"
     ]
    },
    {
     "name": "stderr",
     "output_type": "stream",
     "text": [
      "INFO:tensorflow:Assets written to: ./time_prediction_model/assets\n"
     ]
    },
    {
     "name": "stdout",
     "output_type": "stream",
     "text": [
      "message>  [<tf.Tensor 'DecodeCSV:0' shape=() dtype=float32>, <tf.Tensor 'DecodeCSV:1' shape=() dtype=float32>, <tf.Tensor 'DecodeCSV:2' shape=() dtype=float32>]\n",
      "key>  Tensor(\"StringToNumber:0\", shape=(), dtype=float32)\n"
     ]
    },
    {
     "name": "stderr",
     "output_type": "stream",
     "text": [
      "2024-01-05 21:53:34.423547: E tensorflow_io/core/kernels/kafka_kernels.cc:774] REBALANCE: Local: Revoke partitions\n",
      "2024-01-05 21:53:34.424329: E tensorflow_io/core/kernels/kafka_kernels.cc:776] Retrieved committed offsets with status code: 0\n",
      "2024-01-05 21:53:34.424344: I tensorflow_io/core/kernels/kafka_kernels.cc:787] REBALANCE: result-data[0], OFFSET: 40000 ERROR_CODE: 0\n",
      "2024-01-05 21:53:34.424349: I tensorflow_io/core/kernels/kafka_kernels.cc:806] REBALANCE: Unassigning partitions\n",
      "2024-01-05 21:53:34.427188: E tensorflow_io/core/kernels/kafka_kernels.cc:774] REBALANCE: Local: Assign partitions\n",
      "2024-01-05 21:53:34.427620: E tensorflow_io/core/kernels/kafka_kernels.cc:776] Retrieved committed offsets with status code: 0\n",
      "2024-01-05 21:53:34.427636: I tensorflow_io/core/kernels/kafka_kernels.cc:787] REBALANCE: result-data[0], OFFSET: 40000 ERROR_CODE: 0\n",
      "2024-01-05 21:53:34.427642: I tensorflow_io/core/kernels/kafka_kernels.cc:802] REBALANCE: Assigning partitions\n"
     ]
    },
    {
     "name": "stdout",
     "output_type": "stream",
     "text": [
      "Epoch 1/2\n",
      "  5/500 [..............................] - ETA: 59s - loss: 47.1904"
     ]
    },
    {
     "name": "stderr",
     "output_type": "stream",
     "text": [
      "2024-01-05 21:53:34.940264: I tensorflow_io/core/kernels/kafka_kernels.cc:996] EOF reached for all 1 partition(s)\n"
     ]
    },
    {
     "name": "stdout",
     "output_type": "stream",
     "text": [
      "500/500 [==============================] - 60s 120ms/step - loss: 58.8890\n",
      "Epoch 2/2\n",
      "500/500 [==============================] - 63s 126ms/step - loss: 58.9322\n",
      "INFO:tensorflow:Assets written to: ./time_prediction_model/assets\n"
     ]
    },
    {
     "name": "stderr",
     "output_type": "stream",
     "text": [
      "INFO:tensorflow:Assets written to: ./time_prediction_model/assets\n"
     ]
    },
    {
     "name": "stdout",
     "output_type": "stream",
     "text": [
      "message>  [<tf.Tensor 'DecodeCSV:0' shape=() dtype=float32>, <tf.Tensor 'DecodeCSV:1' shape=() dtype=float32>, <tf.Tensor 'DecodeCSV:2' shape=() dtype=float32>]\n",
      "key>  Tensor(\"StringToNumber:0\", shape=(), dtype=float32)\n"
     ]
    },
    {
     "name": "stderr",
     "output_type": "stream",
     "text": [
      "2024-01-05 21:55:48.453249: E tensorflow_io/core/kernels/kafka_kernels.cc:774] REBALANCE: Local: Revoke partitions\n",
      "2024-01-05 21:55:48.454031: E tensorflow_io/core/kernels/kafka_kernels.cc:776] Retrieved committed offsets with status code: 0\n",
      "2024-01-05 21:55:48.454047: I tensorflow_io/core/kernels/kafka_kernels.cc:787] REBALANCE: result-data[0], OFFSET: 45593 ERROR_CODE: 0\n",
      "2024-01-05 21:55:48.454053: I tensorflow_io/core/kernels/kafka_kernels.cc:806] REBALANCE: Unassigning partitions\n",
      "2024-01-05 21:55:48.456845: E tensorflow_io/core/kernels/kafka_kernels.cc:774] REBALANCE: Local: Assign partitions\n",
      "2024-01-05 21:55:48.457251: E tensorflow_io/core/kernels/kafka_kernels.cc:776] Retrieved committed offsets with status code: 0\n",
      "2024-01-05 21:55:48.457266: I tensorflow_io/core/kernels/kafka_kernels.cc:787] REBALANCE: result-data[0], OFFSET: 45593 ERROR_CODE: 0\n",
      "2024-01-05 21:55:48.457273: I tensorflow_io/core/kernels/kafka_kernels.cc:802] REBALANCE: Assigning partitions\n"
     ]
    },
    {
     "name": "stdout",
     "output_type": "stream",
     "text": [
      "Epoch 1/2\n",
      "  5/280 [..............................] - ETA: 35s - loss: 60.6235"
     ]
    },
    {
     "name": "stderr",
     "output_type": "stream",
     "text": [
      "2024-01-05 21:55:48.967304: I tensorflow_io/core/kernels/kafka_kernels.cc:996] EOF reached for all 1 partition(s)\n"
     ]
    },
    {
     "name": "stdout",
     "output_type": "stream",
     "text": [
      "280/280 [==============================] - 34s 122ms/step - loss: 59.3143\n",
      "Epoch 2/2\n",
      "280/280 [==============================] - 34s 120ms/step - loss: 58.9131\n",
      "INFO:tensorflow:Assets written to: ./time_prediction_model/assets\n"
     ]
    },
    {
     "name": "stderr",
     "output_type": "stream",
     "text": [
      "INFO:tensorflow:Assets written to: ./time_prediction_model/assets\n"
     ]
    },
    {
     "name": "stdout",
     "output_type": "stream",
     "text": [
      "Not enough data in the dataset. Skipping model fitting.\n"
     ]
    },
    {
     "name": "stderr",
     "output_type": "stream",
     "text": [
      "2024-01-05 21:57:06.431528: E tensorflow_io/core/kernels/kafka_kernels.cc:774] REBALANCE: Local: Revoke partitions\n",
      "2024-01-05 21:57:06.432269: E tensorflow_io/core/kernels/kafka_kernels.cc:776] Retrieved committed offsets with status code: 0\n",
      "2024-01-05 21:57:06.432282: I tensorflow_io/core/kernels/kafka_kernels.cc:787] REBALANCE: result-data[0], OFFSET: 45593 ERROR_CODE: 0\n",
      "2024-01-05 21:57:06.432288: I tensorflow_io/core/kernels/kafka_kernels.cc:806] REBALANCE: Unassigning partitions\n",
      "2024-01-05 21:57:06.434846: E tensorflow_io/core/kernels/kafka_kernels.cc:774] REBALANCE: Local: Assign partitions\n",
      "2024-01-05 21:57:06.435323: E tensorflow_io/core/kernels/kafka_kernels.cc:776] Retrieved committed offsets with status code: 0\n",
      "2024-01-05 21:57:06.435336: I tensorflow_io/core/kernels/kafka_kernels.cc:787] REBALANCE: result-data[0], OFFSET: 45593 ERROR_CODE: 0\n",
      "2024-01-05 21:57:06.435341: I tensorflow_io/core/kernels/kafka_kernels.cc:802] REBALANCE: Assigning partitions\n",
      "2024-01-05 21:57:06.943509: I tensorflow_io/core/kernels/kafka_kernels.cc:996] EOF reached for all 1 partition(s)\n"
     ]
    },
    {
     "name": "stdout",
     "output_type": "stream",
     "text": [
      "Not enough data in the dataset. Skipping model fitting.\n"
     ]
    },
    {
     "name": "stderr",
     "output_type": "stream",
     "text": [
      "2024-01-05 21:57:16.943623: E tensorflow_io/core/kernels/kafka_kernels.cc:1001] Local: Timed out\n"
     ]
    }
   ],
   "source": [
    "online_train_ds = tfio.experimental.streaming.KafkaBatchIODataset(\n",
    "    topics=[\"result-data\"],\n",
    "    group_id=\"testzo\",\n",
    "    servers=\"localhost:19092,localhost:29092,localhost:39092\",\n",
    "    stream_timeout=10000,\n",
    "    configuration=[\n",
    "        \"session.timeout.ms=7000\",\n",
    "        \"max.poll.interval.ms=8000\",\n",
    "        \"auto.offset.reset=earliest\"\n",
    "    ],\n",
    ")\n",
    "\n",
    "\n",
    "def decode_kafka_online_item(raw_message, raw_key):\n",
    "    message = tf.io.decode_csv(raw_message, [[0.0] for i in range(3)])\n",
    "    print(\"message> \",message)\n",
    "    key = tf.strings.to_number(raw_key)\n",
    "    print(\"key> \",key)\n",
    "    return (message, key)\n",
    "  \n",
    "batch_size = 20\n",
    "for single_ds in online_train_ds:\n",
    "    if len(single_ds) >= batch_size:\n",
    "        single_ds = single_ds.shuffle(buffer_size=batch_size)\n",
    "        single_ds = single_ds.map(decode_kafka_online_item)\n",
    "        single_ds = single_ds.batch(batch_size)\n",
    "    \n",
    "        model.fit(single_ds, epochs=2)\n",
    "        tf.keras.models.save_model(model, \"./time_prediction_model\")\n",
    "    else:\n",
    "        print(\"Not enough data in the dataset. Skipping model fitting.\")\n",
    "\n",
    "\n"
   ]
  },
  {
   "cell_type": "code",
   "execution_count": null,
   "id": "27497fc8",
   "metadata": {},
   "outputs": [],
   "source": [
    "print(\"Food Delivery Time Prediction\")\n",
    "a = int(input(\"Age of Delivery Partner: \"))\n",
    "b = float(input(\"Ratings of Previous Deliveries: \"))\n",
    "c = int(input(\"Total Distance: \"))\n",
    "\n",
    "features = np.array([[a, b, c]])\n",
    "print(\"Predicted Delivery Time in Minutes = \", model.predict(features))"
   ]
  }
 ],
 "metadata": {
  "kernelspec": {
   "display_name": "Python 3 (ipykernel)",
   "language": "python",
   "name": "python3"
  },
  "language_info": {
   "codemirror_mode": {
    "name": "ipython",
    "version": 3
   },
   "file_extension": ".py",
   "mimetype": "text/x-python",
   "name": "python",
   "nbconvert_exporter": "python",
   "pygments_lexer": "ipython3",
   "version": "3.10.12"
  }
 },
 "nbformat": 4,
 "nbformat_minor": 5
}
