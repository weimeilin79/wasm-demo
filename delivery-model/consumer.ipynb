{
 "cells": [
  {
   "cell_type": "code",
   "execution_count": null,
   "id": "ed9f5e86-a46c-44e8-8086-bd73a542a139",
   "metadata": {},
   "outputs": [],
   "source": [
    "! pip install tensorflow\n",
    "! pip install tensorflow-io\n",
    "! pip install kafka-python\n",
    "! pip install numpy\n",
    "! pip install plotly\n",
    "! pip install pandas\n",
    "! pip install scikit-learn"
   ]
  },
  {
   "cell_type": "code",
   "execution_count": null,
   "id": "047285a8-daa7-41e6-8a76-9daaaa1874da",
   "metadata": {},
   "outputs": [],
   "source": [
    "from keras.models import Sequential\n",
    "from keras.layers import LSTM, Dense\n",
    "from kafka import KafkaConsumer\n",
    "import plotly.express as px\n",
    "import numpy as np\n",
    "import pandas as pd\n",
    "import tensorflow as tf\n",
    "import tensorflow_io as tfio\n"
   ]
  },
  {
   "cell_type": "markdown",
   "id": "5cec221a",
   "metadata": {},
   "source": [
    "## Food Delivery Time Prediction Model\n",
    "\n",
    "Now let’s train a Machine Learning model using an LSTM neural network model for the task of food delivery time prediction:"
   ]
  },
  {
   "cell_type": "code",
   "execution_count": null,
   "id": "43f9ddaf",
   "metadata": {},
   "outputs": [],
   "source": [
    "model = Sequential()\n",
    "model.add(LSTM(128, return_sequences=True, input_shape= (3, 1)))\n",
    "model.add(LSTM(64, return_sequences=False))\n",
    "model.add(Dense(25))\n",
    "model.add(Dense(1))\n",
    "model.compile(optimizer='adam', loss='mean_squared_error', run_eagerly=True)\n",
    "model.summary()"
   ]
  },
  {
   "cell_type": "code",
   "execution_count": null,
   "id": "89ba98a4",
   "metadata": {},
   "outputs": [],
   "source": [
    "online_train_ds = tfio.experimental.streaming.KafkaBatchIODataset(\n",
    "    topics=[\"result-data\"],\n",
    "    group_id=\"testzo\",\n",
    "    servers=\"localhost:19092,localhost:29092,localhost:39092\",\n",
    "    stream_timeout=10000,\n",
    "    configuration=[\n",
    "        \"session.timeout.ms=7000\",\n",
    "        \"max.poll.interval.ms=8000\",\n",
    "        \"auto.offset.reset=earliest\"\n",
    "    ],\n",
    ")\n",
    "\n",
    "\n",
    "def decode_kafka_online_item(raw_message, raw_key):\n",
    "    message = tf.io.decode_csv(raw_message, [[0.0] for i in range(3)])\n",
    "    print(\"message> \",message)\n",
    "    key = tf.strings.to_number(raw_key)\n",
    "    print(\"key> \",key)\n",
    "    return (message, key)\n",
    "  \n",
    "batch_size = 20\n",
    "for single_ds in online_train_ds:\n",
    "    if len(single_ds) >= batch_size:\n",
    "        single_ds = single_ds.shuffle(buffer_size=batch_size)\n",
    "        single_ds = single_ds.map(decode_kafka_online_item)\n",
    "        single_ds = single_ds.batch(batch_size)\n",
    "    \n",
    "        model.fit(single_ds, epochs=2)\n",
    "        tf.keras.models.save_model(model, \"./time_prediction_model\")\n",
    "    else:\n",
    "        print(\"Not enough data in the dataset. Skipping model fitting.\")\n",
    "\n",
    "\n"
   ]
  },
  {
   "cell_type": "code",
   "execution_count": null,
   "id": "27497fc8",
   "metadata": {},
   "outputs": [],
   "source": [
    "print(\"Food Delivery Time Prediction\")\n",
    "a = int(input(\"Age of Delivery Partner: \"))\n",
    "b = float(input(\"Ratings of Previous Deliveries: \"))\n",
    "c = int(input(\"Total Distance: \"))\n",
    "\n",
    "features = np.array([[a, b, c]])\n",
    "print(\"Predicted Delivery Time in Minutes = \", model.predict(features))"
   ]
  }
 ],
 "metadata": {
  "kernelspec": {
   "display_name": "Python 3 (ipykernel)",
   "language": "python",
   "name": "python3"
  },
  "language_info": {
   "codemirror_mode": {
    "name": "ipython",
    "version": 3
   },
   "file_extension": ".py",
   "mimetype": "text/x-python",
   "name": "python",
   "nbconvert_exporter": "python",
   "pygments_lexer": "ipython3",
   "version": "3.10.12"
  }
 },
 "nbformat": 4,
 "nbformat_minor": 5
}
