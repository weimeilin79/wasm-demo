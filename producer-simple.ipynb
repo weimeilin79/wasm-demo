{
 "cells": [
  {
   "cell_type": "code",
   "execution_count": null,
   "metadata": {},
   "outputs": [],
   "source": [
    "! pip install kafka-python"
   ]
  },
  {
   "cell_type": "code",
   "execution_count": null,
   "metadata": {},
   "outputs": [],
   "source": [
    "import csv\n",
    "import time\n",
    "from kafka import KafkaProducer"
   ]
  },
  {
   "cell_type": "code",
   "execution_count": null,
   "metadata": {},
   "outputs": [],
   "source": [
    "\n",
    "# Define Kafka producer configuration\n",
    "kafka_topic = 'test-data'  # Replace with your Kafka topic name\n",
    "\n",
    "# Create a Kafka producer instance\n",
    "producer = KafkaProducer(bootstrap_servers=['localhost:19092','localhost:29092','localhost:39092'])\n",
    "\n",
    "# Define the CSV file path\n",
    "csv_file_path = 'deliverytime.txt'  # Replace with your CSV file path\n",
    "\n",
    "# Batch size for sending messages to Kafka\n",
    "batch_size = 500\n",
    "\n",
    "# Read the CSV file and send rows to Kafka\n",
    "with open(csv_file_path, 'r') as csv_file:\n",
    "    csv_reader = csv.reader(csv_file)\n",
    "    batch = []\n",
    "    for row in csv_reader:\n",
    "        # Send each row as a message to the Kafka topic\n",
    "        message = ','.join(row).encode('utf-8')\n",
    "        producer.send(kafka_topic, value=message)\n",
    "\n",
    "        # Add the row to the batch\n",
    "        batch.append(message)\n",
    "\n",
    "        # Check if the batch size is reached, then send the batch and clear it\n",
    "        if len(batch) >= batch_size:\n",
    "            producer.flush()\n",
    "            print(f'Sent {len(batch)} rows to Kafka.')\n",
    "            batch = []\n",
    "\n",
    "            # Sleep for 3 seconds\n",
    "            time.sleep(3)\n",
    "\n",
    "    # Send any remaining rows in the last batch\n",
    "    if batch:\n",
    "        producer.flush()\n",
    "        print(f'Sent {len(batch)} rows to Kafka.')\n",
    "\n",
    "# Close the Kafka producer\n",
    "producer.close()\n"
   ]
  }
 ],
 "metadata": {
  "kernelspec": {
   "display_name": "Python 3",
   "language": "python",
   "name": "python3"
  },
  "language_info": {
   "codemirror_mode": {
    "name": "ipython",
    "version": 3
   },
   "file_extension": ".py",
   "mimetype": "text/x-python",
   "name": "python",
   "nbconvert_exporter": "python",
   "pygments_lexer": "ipython3",
   "version": "3.10.12"
  }
 },
 "nbformat": 4,
 "nbformat_minor": 2
}
